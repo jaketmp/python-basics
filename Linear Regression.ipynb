{
 "cells": [
  {
   "cell_type": "markdown",
   "metadata": {},
   "source": [
    "# Basic Linear Regression in Python\n",
    "Code adapted from [Towards Data Science](https://towardsdatascience.com/introduction-to-linear-regression-in-python-c12a072bedf0)\n",
    "\n",
    "This is a Jupyter notebook. It allows you to run Python code, and can display the results back to you.\n",
    "\n",
    "The code in a notebook is divided into cells - code in each cell can be run independently, by clicking in the cell and then the 'Run' button in the menu bar above, or by typing _shift-enter_."
   ]
  },
  {
   "cell_type": "code",
   "execution_count": null,
   "metadata": {},
   "outputs": [],
   "source": [
    "# In this cell we import the modules we want to use later on.\n",
    "import pandas     # To work with tables\n",
    "import numpy      # For maths\n",
    "import seaborn    # For advanced plots\n",
    "import cufflinks  # For interactive plots\n",
    "from matplotlib import pyplot as plt\n",
    "\n",
    "cufflinks.go_offline()"
   ]
  },
  {
   "cell_type": "markdown",
   "metadata": {},
   "source": [
    "## Importing data\n",
    "\n",
    "Data can be easily imported from spreadsheets or databases.\n",
    "\n",
    "The `pandas` module provides common functions for working with (_n_-dimensional) tabular data in Python."
   ]
  },
  {
   "cell_type": "code",
   "execution_count": null,
   "metadata": {},
   "outputs": [],
   "source": [
    "# Import a dataset of advertising spends\n",
    "advert = pandas.read_csv('Advertising.csv', index_col=0)\n",
    "\n",
    "# Display the first five rows of the data\n",
    "advert.head()"
   ]
  },
  {
   "cell_type": "markdown",
   "metadata": {},
   "source": [
    "Data can be pivoted and reflowed:"
   ]
  },
  {
   "cell_type": "code",
   "execution_count": null,
   "metadata": {},
   "outputs": [],
   "source": [
    "# Make a table with one row per ad channel\n",
    "pivoted = pandas.melt(advert.reset_index(), id_vars=['index', 'sales'])\n",
    "\n",
    "# Rename columns to be more friendly\n",
    "pivoted = pivoted.rename(columns={'index':'transaction', 'value':'spend', 'variable':'channel'})\n",
    "\n",
    "pivoted.head()"
   ]
  },
  {
   "cell_type": "markdown",
   "metadata": {},
   "source": [
    "## Taking a look at the data\n",
    "\n",
    "We can quickly visualise the relationships in the data.\n",
    "\n",
    "The `seaborn` module provides many common plots.\n",
    "\n",
    "See [here](https://seaborn.pydata.org/examples/index.html) for a gallery of `seaborn` plots."
   ]
  },
  {
   "cell_type": "code",
   "execution_count": null,
   "metadata": {},
   "outputs": [],
   "source": [
    "plt.figure(figsize=(12, 6))\n",
    "ax = seaborn.scatterplot(data=pivoted, x='sales', y='spend', hue='channel')"
   ]
  },
  {
   "cell_type": "code",
   "execution_count": null,
   "metadata": {},
   "outputs": [],
   "source": [
    "plt.figure(figsize=(12, 6))\n",
    "ax = seaborn.violinplot(data=pivoted, y='spend', x='channel')"
   ]
  },
  {
   "cell_type": "markdown",
   "metadata": {},
   "source": [
    "Sometimes an interative view of the data is more useful.\n",
    "\n",
    "The `cufflinks` package provides an interactive view of a `pandas` dataframe.\n",
    "\n",
    "More examples can be found [here](https://plot.ly/ipython-notebooks/cufflinks/)."
   ]
  },
  {
   "cell_type": "code",
   "execution_count": null,
   "metadata": {},
   "outputs": [],
   "source": [
    "advert.iplot(kind='scatter', x='sales', mode='markers')"
   ]
  },
  {
   "cell_type": "code",
   "execution_count": null,
   "metadata": {},
   "outputs": [],
   "source": [
    "advert.iplot(kind='box')"
   ]
  },
  {
   "cell_type": "markdown",
   "metadata": {},
   "source": [
    "## Modeling the data\n",
    "\n",
    "Modules such as `scikit-learn` offer a huge range of options to model data.\n",
    "\n",
    "Here we build a simple linear regression model to predict sales as a function to advertising spend."
   ]
  },
  {
   "cell_type": "code",
   "execution_count": null,
   "metadata": {},
   "outputs": [],
   "source": [
    "from sklearn.linear_model import LinearRegression\n",
    "\n",
    "# Build linear regression model using TV and Radio as predictors\n",
    "# Split data into predictors X and output Y\n",
    "predictors = ['TV', 'radio']\n",
    "X = advert[predictors]\n",
    "y = advert['sales']\n",
    "\n",
    "# Initialise and fit model\n",
    "lm = LinearRegression()\n",
    "model_TV_Radio = lm.fit(X, y)"
   ]
  },
  {
   "cell_type": "code",
   "execution_count": null,
   "metadata": {},
   "outputs": [],
   "source": [
    "# We can examine the model coefficients\n",
    "print(f'alpha = {model_TV_Radio.intercept_}')\n",
    "print(f'betas = {model_TV_Radio.coef_}')"
   ]
  },
  {
   "cell_type": "code",
   "execution_count": null,
   "metadata": {},
   "outputs": [],
   "source": [
    "# And predict Sales for a combination of TV and Radio advertising spend\n",
    "new_X = [[300, 200]]\n",
    "print(model_TV_Radio.predict(new_X))"
   ]
  },
  {
   "cell_type": "markdown",
   "metadata": {},
   "source": [
    "## Model validation\n",
    "\n",
    "`sklearn` has many functions to simplfy the validation of models, such as generating training/test splits."
   ]
  },
  {
   "cell_type": "code",
   "execution_count": null,
   "metadata": {},
   "outputs": [],
   "source": [
    "from sklearn.model_selection import train_test_split\n",
    "\n",
    "# Divide the data 80-20 into a training and test set\n",
    "train, test = train_test_split(advert, test_size=0.2)"
   ]
  },
  {
   "cell_type": "code",
   "execution_count": null,
   "metadata": {},
   "outputs": [],
   "source": [
    "# Build linear regression model on the training data using all predictors\n",
    "predictors = ['TV', 'radio', 'newspaper']\n",
    "X = train[predictors]\n",
    "y = train['sales']\n",
    "\n",
    "# Initialise and fit model\n",
    "lm = LinearRegression()\n",
    "model_All = lm.fit(X, y)"
   ]
  },
  {
   "cell_type": "code",
   "execution_count": null,
   "metadata": {},
   "outputs": [],
   "source": [
    "# Use the model to predict sales for our test data\n",
    "test['predictions'] = model_All.predict(test[predictors])"
   ]
  },
  {
   "cell_type": "code",
   "execution_count": null,
   "metadata": {},
   "outputs": [],
   "source": [
    "plt.figure(figsize=(12, 6))\n",
    "ax = seaborn.regplot(y='sales', x='predictions', data=test)"
   ]
  },
  {
   "cell_type": "markdown",
   "metadata": {},
   "source": [
    "`sklearn` has built in functions to generate quality metrics such as R²"
   ]
  },
  {
   "cell_type": "code",
   "execution_count": null,
   "metadata": {},
   "outputs": [],
   "source": [
    "r_squared = model_All.score(test[predictors], test[\"sales\"])\n",
    "print(f'Model R²: {r_squared:.2f}')"
   ]
  },
  {
   "cell_type": "markdown",
   "metadata": {},
   "source": [
    "## Up for a challange?\n",
    "\n",
    "Build a model predicting sales as a function of only radio and newpaper spend, and compare it to previous model."
   ]
  },
  {
   "cell_type": "code",
   "execution_count": null,
   "metadata": {},
   "outputs": [],
   "source": []
  }
 ],
 "metadata": {
  "kernelspec": {
   "display_name": "Python 3",
   "language": "python",
   "name": "python3"
  },
  "language_info": {
   "codemirror_mode": {
    "name": "ipython",
    "version": 3
   },
   "file_extension": ".py",
   "mimetype": "text/x-python",
   "name": "python",
   "nbconvert_exporter": "python",
   "pygments_lexer": "ipython3",
   "version": "3.7.2"
  }
 },
 "nbformat": 4,
 "nbformat_minor": 2
}
